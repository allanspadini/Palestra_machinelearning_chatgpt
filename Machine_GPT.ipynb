{
  "nbformat": 4,
  "nbformat_minor": 0,
  "metadata": {
    "colab": {
      "provenance": []
    },
    "kernelspec": {
      "name": "python3",
      "display_name": "Python 3"
    },
    "language_info": {
      "name": "python"
    }
  },
  "cells": [
    {
      "cell_type": "markdown",
      "source": [
        "https://www.kaggle.com/datasets/uciml/iris"
      ],
      "metadata": {
        "id": "Cbdy2v8YOSGs"
      }
    },
    {
      "cell_type": "markdown",
      "source": [
        "https://chat.openai.com/auth/login"
      ],
      "metadata": {
        "id": "BgIO390HycdV"
      }
    },
    {
      "cell_type": "markdown",
      "source": [
        "🤖 Tenho um arquivo no formato csv armazenado numa variável de nome url. Quero ler esse arquivo e visualizar as primeiras linhas do arquivo usando Python. Como posso proceder?"
      ],
      "metadata": {
        "id": "5an3yCt2OtMv"
      }
    },
    {
      "cell_type": "code",
      "source": [
        "url = 'https://raw.githubusercontent.com/allanspadini/Palestra_machinelearning_chatgpt/main/Iris.csv'"
      ],
      "metadata": {
        "id": "VQ5ZmBOPW-qb"
      },
      "execution_count": null,
      "outputs": []
    },
    {
      "cell_type": "code",
      "source": [
        "import pandas as pd\n",
        "\n",
        "# Lendo o arquivo CSV a partir da variável url e armazenando em um dataframe\n",
        "df = pd.read_csv(url)\n",
        "\n",
        "# Visualizando as primeiras linhas do arquivo\n",
        "print(df.head())"
      ],
      "metadata": {
        "colab": {
          "base_uri": "https://localhost:8080/"
        },
        "id": "A8MukKBmOSrP",
        "outputId": "24b838a2-d997-47fe-b268-4823841ec062"
      },
      "execution_count": null,
      "outputs": [
        {
          "output_type": "stream",
          "name": "stdout",
          "text": [
            "   Id  SepalLengthCm  SepalWidthCm  PetalLengthCm  PetalWidthCm      Species\n",
            "0   1            5.1           3.5            1.4           0.2  Iris-setosa\n",
            "1   2            4.9           3.0            1.4           0.2  Iris-setosa\n",
            "2   3            4.7           3.2            1.3           0.2  Iris-setosa\n",
            "3   4            4.6           3.1            1.5           0.2  Iris-setosa\n",
            "4   5            5.0           3.6            1.4           0.2  Iris-setosa\n"
          ]
        }
      ]
    },
    {
      "cell_type": "markdown",
      "source": [
        "## Escrever mensagens claras e específicas. "
      ],
      "metadata": {
        "id": "vwCfczlheO3m"
      }
    },
    {
      "cell_type": "markdown",
      "source": [
        "🤖 O dataset csv que carreguei tem haver com um problema de determinação da espécie de flores. Tenho as seguintes colunas: Id  SepalLengthCm  SepalWidthCm  PetalLengthCm  PetalWidthCm      Species. Quais dessas colunas são relevantes para o problema?"
      ],
      "metadata": {
        "id": "7zhygW7sT3kR"
      }
    },
    {
      "cell_type": "markdown",
      "source": [
        "- Pedir por uma saída estruturada"
      ],
      "metadata": {
        "id": "3dW-XZJBk_KC"
      }
    },
    {
      "cell_type": "markdown",
      "source": [
        "🤖 Escreva um código em markdown que constrói uma tabela que identifica as colunas que são features e a coluna da variável de destino."
      ],
      "metadata": {
        "id": "Ymr621V9WRAB"
      }
    },
    {
      "cell_type": "markdown",
      "source": [
        "| Colunas de Features | Variável de Destino |\n",
        "| :-----------------:| :-----------------:|\n",
        "| SepalLengthCm      | Species             |\n",
        "| SepalWidthCm       |                     |\n",
        "| PetalLengthCm      |                     |\n",
        "| PetalWidthCm       |                     |\n"
      ],
      "metadata": {
        "id": "A_qFGX5GY8Wt"
      }
    },
    {
      "cell_type": "markdown",
      "source": [
        "| Pessoa | Nome | Idade | Salário anual | 🙂 Estado Civil |\n",
        "| ------ | ---- | ----- | -------------| ------------ |\n",
        "| 1      | Nara | 24    | 50000,00  | 0            |\n",
        "| 2      | João | 21    | 60000,00  | 1            |\n"
      ],
      "metadata": {
        "id": "gW-_smz_4E8X"
      }
    },
    {
      "cell_type": "markdown",
      "source": [
        "🤖 Escreva o código Python que seleciona apenas as colunas que contém  contêm medidas morfológicas da flor e coloque as informações em uma variável de nome X."
      ],
      "metadata": {
        "id": "KgoAb6weXFBG"
      }
    },
    {
      "cell_type": "code",
      "source": [
        "# Selecionando apenas as colunas de features\n",
        "features = ['SepalLengthCm', 'SepalWidthCm', 'PetalLengthCm', 'PetalWidthCm']\n",
        "X = df[features]"
      ],
      "metadata": {
        "id": "8Z2J2-cPXLdZ"
      },
      "execution_count": null,
      "outputs": []
    },
    {
      "cell_type": "code",
      "source": [
        "X.head()"
      ],
      "metadata": {
        "colab": {
          "base_uri": "https://localhost:8080/",
          "height": 206
        },
        "id": "1SrsZsDUX_th",
        "outputId": "6bb1355e-f201-44ff-a24a-f06510db198d"
      },
      "execution_count": null,
      "outputs": [
        {
          "output_type": "execute_result",
          "data": {
            "text/plain": [
              "   SepalLengthCm  SepalWidthCm  PetalLengthCm  PetalWidthCm\n",
              "0            5.1           3.5            1.4           0.2\n",
              "1            4.9           3.0            1.4           0.2\n",
              "2            4.7           3.2            1.3           0.2\n",
              "3            4.6           3.1            1.5           0.2\n",
              "4            5.0           3.6            1.4           0.2"
            ],
            "text/html": [
              "\n",
              "  <div id=\"df-713829dd-e06f-4ce0-8848-d5cafbc3dc0c\">\n",
              "    <div class=\"colab-df-container\">\n",
              "      <div>\n",
              "<style scoped>\n",
              "    .dataframe tbody tr th:only-of-type {\n",
              "        vertical-align: middle;\n",
              "    }\n",
              "\n",
              "    .dataframe tbody tr th {\n",
              "        vertical-align: top;\n",
              "    }\n",
              "\n",
              "    .dataframe thead th {\n",
              "        text-align: right;\n",
              "    }\n",
              "</style>\n",
              "<table border=\"1\" class=\"dataframe\">\n",
              "  <thead>\n",
              "    <tr style=\"text-align: right;\">\n",
              "      <th></th>\n",
              "      <th>SepalLengthCm</th>\n",
              "      <th>SepalWidthCm</th>\n",
              "      <th>PetalLengthCm</th>\n",
              "      <th>PetalWidthCm</th>\n",
              "    </tr>\n",
              "  </thead>\n",
              "  <tbody>\n",
              "    <tr>\n",
              "      <th>0</th>\n",
              "      <td>5.1</td>\n",
              "      <td>3.5</td>\n",
              "      <td>1.4</td>\n",
              "      <td>0.2</td>\n",
              "    </tr>\n",
              "    <tr>\n",
              "      <th>1</th>\n",
              "      <td>4.9</td>\n",
              "      <td>3.0</td>\n",
              "      <td>1.4</td>\n",
              "      <td>0.2</td>\n",
              "    </tr>\n",
              "    <tr>\n",
              "      <th>2</th>\n",
              "      <td>4.7</td>\n",
              "      <td>3.2</td>\n",
              "      <td>1.3</td>\n",
              "      <td>0.2</td>\n",
              "    </tr>\n",
              "    <tr>\n",
              "      <th>3</th>\n",
              "      <td>4.6</td>\n",
              "      <td>3.1</td>\n",
              "      <td>1.5</td>\n",
              "      <td>0.2</td>\n",
              "    </tr>\n",
              "    <tr>\n",
              "      <th>4</th>\n",
              "      <td>5.0</td>\n",
              "      <td>3.6</td>\n",
              "      <td>1.4</td>\n",
              "      <td>0.2</td>\n",
              "    </tr>\n",
              "  </tbody>\n",
              "</table>\n",
              "</div>\n",
              "      <button class=\"colab-df-convert\" onclick=\"convertToInteractive('df-713829dd-e06f-4ce0-8848-d5cafbc3dc0c')\"\n",
              "              title=\"Convert this dataframe to an interactive table.\"\n",
              "              style=\"display:none;\">\n",
              "        \n",
              "  <svg xmlns=\"http://www.w3.org/2000/svg\" height=\"24px\"viewBox=\"0 0 24 24\"\n",
              "       width=\"24px\">\n",
              "    <path d=\"M0 0h24v24H0V0z\" fill=\"none\"/>\n",
              "    <path d=\"M18.56 5.44l.94 2.06.94-2.06 2.06-.94-2.06-.94-.94-2.06-.94 2.06-2.06.94zm-11 1L8.5 8.5l.94-2.06 2.06-.94-2.06-.94L8.5 2.5l-.94 2.06-2.06.94zm10 10l.94 2.06.94-2.06 2.06-.94-2.06-.94-.94-2.06-.94 2.06-2.06.94z\"/><path d=\"M17.41 7.96l-1.37-1.37c-.4-.4-.92-.59-1.43-.59-.52 0-1.04.2-1.43.59L10.3 9.45l-7.72 7.72c-.78.78-.78 2.05 0 2.83L4 21.41c.39.39.9.59 1.41.59.51 0 1.02-.2 1.41-.59l7.78-7.78 2.81-2.81c.8-.78.8-2.07 0-2.86zM5.41 20L4 18.59l7.72-7.72 1.47 1.35L5.41 20z\"/>\n",
              "  </svg>\n",
              "      </button>\n",
              "      \n",
              "  <style>\n",
              "    .colab-df-container {\n",
              "      display:flex;\n",
              "      flex-wrap:wrap;\n",
              "      gap: 12px;\n",
              "    }\n",
              "\n",
              "    .colab-df-convert {\n",
              "      background-color: #E8F0FE;\n",
              "      border: none;\n",
              "      border-radius: 50%;\n",
              "      cursor: pointer;\n",
              "      display: none;\n",
              "      fill: #1967D2;\n",
              "      height: 32px;\n",
              "      padding: 0 0 0 0;\n",
              "      width: 32px;\n",
              "    }\n",
              "\n",
              "    .colab-df-convert:hover {\n",
              "      background-color: #E2EBFA;\n",
              "      box-shadow: 0px 1px 2px rgba(60, 64, 67, 0.3), 0px 1px 3px 1px rgba(60, 64, 67, 0.15);\n",
              "      fill: #174EA6;\n",
              "    }\n",
              "\n",
              "    [theme=dark] .colab-df-convert {\n",
              "      background-color: #3B4455;\n",
              "      fill: #D2E3FC;\n",
              "    }\n",
              "\n",
              "    [theme=dark] .colab-df-convert:hover {\n",
              "      background-color: #434B5C;\n",
              "      box-shadow: 0px 1px 3px 1px rgba(0, 0, 0, 0.15);\n",
              "      filter: drop-shadow(0px 1px 2px rgba(0, 0, 0, 0.3));\n",
              "      fill: #FFFFFF;\n",
              "    }\n",
              "  </style>\n",
              "\n",
              "      <script>\n",
              "        const buttonEl =\n",
              "          document.querySelector('#df-713829dd-e06f-4ce0-8848-d5cafbc3dc0c button.colab-df-convert');\n",
              "        buttonEl.style.display =\n",
              "          google.colab.kernel.accessAllowed ? 'block' : 'none';\n",
              "\n",
              "        async function convertToInteractive(key) {\n",
              "          const element = document.querySelector('#df-713829dd-e06f-4ce0-8848-d5cafbc3dc0c');\n",
              "          const dataTable =\n",
              "            await google.colab.kernel.invokeFunction('convertToInteractive',\n",
              "                                                     [key], {});\n",
              "          if (!dataTable) return;\n",
              "\n",
              "          const docLinkHtml = 'Like what you see? Visit the ' +\n",
              "            '<a target=\"_blank\" href=https://colab.research.google.com/notebooks/data_table.ipynb>data table notebook</a>'\n",
              "            + ' to learn more about interactive tables.';\n",
              "          element.innerHTML = '';\n",
              "          dataTable['output_type'] = 'display_data';\n",
              "          await google.colab.output.renderOutput(dataTable, element);\n",
              "          const docLink = document.createElement('div');\n",
              "          docLink.innerHTML = docLinkHtml;\n",
              "          element.appendChild(docLink);\n",
              "        }\n",
              "      </script>\n",
              "    </div>\n",
              "  </div>\n",
              "  "
            ]
          },
          "metadata": {},
          "execution_count": 4
        }
      ]
    },
    {
      "cell_type": "markdown",
      "source": [
        "🤖 Agora escreva o código que coloca em uma variável de nome y a variável de destino. "
      ],
      "metadata": {
        "id": "EcCajuD2em9f"
      }
    },
    {
      "cell_type": "code",
      "source": [
        "# Selecionando a variável de destino\n",
        "y = df['Species']"
      ],
      "metadata": {
        "id": "fHs-bizRZT2a"
      },
      "execution_count": null,
      "outputs": []
    },
    {
      "cell_type": "markdown",
      "source": [
        "🤖 O X contém as minhas features e o y o meu alvo. Quero separar os dados em dados de treino e de teste. Separe 40% dos dados para teste. "
      ],
      "metadata": {
        "id": "4pSwL6QAbcOr"
      }
    },
    {
      "cell_type": "code",
      "source": [
        "from sklearn.model_selection import train_test_split\n",
        "\n",
        "# X contém as features e y contém o alvo\n",
        "# test_size define o tamanho do conjunto de teste, nesse caso 40%\n",
        "X_train, X_test, y_train, y_test = train_test_split(X, y, test_size=0.4, random_state=42)\n",
        "\n",
        "# Exibindo o tamanho dos conjuntos de treinamento e de teste\n",
        "print(\"Tamanho do conjunto de treinamento:\", len(X_train))\n",
        "print(\"Tamanho do conjunto de teste:\", len(X_test))\n"
      ],
      "metadata": {
        "id": "rvS-gLiaZeoA",
        "colab": {
          "base_uri": "https://localhost:8080/"
        },
        "outputId": "9c74c7b1-471d-4bc8-8fe9-78dd5542c5a1"
      },
      "execution_count": null,
      "outputs": [
        {
          "output_type": "stream",
          "name": "stdout",
          "text": [
            "Tamanho do conjunto de treinamento: 90\n",
            "Tamanho do conjunto de teste: 60\n"
          ]
        }
      ]
    },
    {
      "cell_type": "markdown",
      "source": [
        "🤖 Escreva o código com a Sklearn para fazer o treinamento do modelo de machine learning em um problema de classificação com árvores de decisão."
      ],
      "metadata": {
        "id": "D6dV3fpB0Hhr"
      }
    },
    {
      "cell_type": "code",
      "source": [
        "from sklearn.tree import DecisionTreeClassifier\n",
        "from sklearn.metrics import accuracy_score\n",
        "\n",
        "# X contém as features e y contém o alvo\n",
        "# X_train, X_test, y_train, y_test foram criados no exemplo anterior\n",
        "# Instanciando um objeto da classe DecisionTreeClassifier\n",
        "model = DecisionTreeClassifier()\n",
        "\n",
        "# Treinando o modelo usando os dados de treinamento\n",
        "model.fit(X_train, y_train)\n",
        "\n",
        "# Avaliando o desempenho do modelo usando os dados de teste\n",
        "y_pred = model.predict(X_test)\n",
        "accuracy = accuracy_score(y_test, y_pred)\n",
        "print(\"Acurácia:\", accuracy)\n"
      ],
      "metadata": {
        "colab": {
          "base_uri": "https://localhost:8080/"
        },
        "id": "78fuO5SmxstX",
        "outputId": "8e76d9b9-7b97-4580-972b-e30cf33d03b1"
      },
      "execution_count": null,
      "outputs": [
        {
          "output_type": "stream",
          "name": "stdout",
          "text": [
            "Acurácia: 0.9666666666666667\n"
          ]
        }
      ]
    },
    {
      "cell_type": "markdown",
      "source": [
        "## Cuidados com ChatGPT\n",
        "\n",
        "- Halucinações"
      ],
      "metadata": {
        "id": "_MVkjrsln2Zf"
      }
    },
    {
      "cell_type": "markdown",
      "source": [
        "🤖 Me diga como posso usar redes neurais  minerais para resolver um problema de classificação?"
      ],
      "metadata": {
        "id": "tWiIb32hqOz0"
      }
    },
    {
      "cell_type": "markdown",
      "source": [
        "🤖 Redes neurais  minerais existem?"
      ],
      "metadata": {
        "id": "zgc67iGGh4g8"
      }
    },
    {
      "cell_type": "markdown",
      "source": [
        "## Resumindo"
      ],
      "metadata": {
        "id": "ZLJCKQmiKq6O"
      }
    },
    {
      "cell_type": "markdown",
      "source": [
        "🤖 Resuma o texto separado pelo grupo de três crases. \n",
        "```\n",
        " O clustering ou análise de agrupamento de dados é o conjunto de técnicas de prospecção de dados (data mining) que visa fazer agrupamentos automáticos de dados segundo o seu grau de semelhança. O critério de semelhança faz parte da definição do problema e, dependendo, do algoritmo. A cada conjunto de dados resultante do processo dá-se o nome de grupo, aglomerado ou agrupamento (cluster).\n",
        "\n",
        "O procedimento de agrupamento (clustering) também pode ser aplicado a bases de texto utilizando algoritmos de prospeção de texto (text mining), onde o algoritmo procura agrupar textos que falem sobre o mesmo assunto e separar textos de conteúdo diferentes.\n",
        "\n",
        "Normalmente o usuário do sistema deve escolher a priori o número de grupos a serem detectados. Alguns algoritmos mais sofisticados pedem apenas o número mínimo, outros tem a capacidade de subdividir um grupo em dois.\n",
        "\n",
        "Os tipos de algoritmos de agrupamento de dados mais comuns são: os particionais e os hierárquicos.\n",
        "\n",
        "Quando se tem um conjunto de objetos é natural olhar para eles tentando perceber o quão semelhantes ou diferentes eles são uns dos outros. Uma abordagem comum consiste em definir uma função de distância entre os objetos, com a interpretação de que objetos a uma distância menor são mais semelhantes uns aos outros. Assim, a distância assume um significado mais abstrato. Por exemplo, podemos definir a distância entre pessoas como a diferença do ano em que nasceram. O clustering, que traduz-se em agrupamento, surge quando tentamos classificar ou organizar objetos em grupos coerentes. Dada uma função de distância, o problema pretende dividi-los em grupos para que, intuitivamente, objetos dentro do mesmo grupo estejam \"próximos\", e em diferentes grupos, \"distantes\". ```\n",
        "\n"
      ],
      "metadata": {
        "id": "5i4emysIj-LC"
      }
    },
    {
      "cell_type": "markdown",
      "source": [
        "Problema:"
      ],
      "metadata": {
        "id": "PSeukzRNkrYm"
      }
    },
    {
      "cell_type": "markdown",
      "source": [
        "Adriano fez uma aplicação de R$ 6000,00 a uma taxa de juro simples de 1% a.m. por 5 meses. Qual foi o montante dessa aplicação ao final do tempo previsto?"
      ],
      "metadata": {
        "id": "5UResbRckmzX"
      }
    },
    {
      "cell_type": "markdown",
      "source": [
        "🤖 Explique a fórmula dos juros simples."
      ],
      "metadata": {
        "id": "4IZ8Ecgjle85"
      }
    },
    {
      "cell_type": "markdown",
      "source": [
        "🤖 Identifique as variáveis do problema separado por três crases: ``` Adriano fez uma aplicação de R$ 6000,00 a uma taxa de juro simples de 1% a.m. por 5 meses. Qual foi o montante dessa aplicação ao final do tempo previsto? ```"
      ],
      "metadata": {
        "id": "tEj-dpKald5T"
      }
    },
    {
      "cell_type": "markdown",
      "source": [
        "🤖 Calcule o montante final"
      ],
      "metadata": {
        "id": "L4eplDW-mOJZ"
      }
    },
    {
      "cell_type": "markdown",
      "source": [
        "## Transformação"
      ],
      "metadata": {
        "id": "t8KSa0DvKvU2"
      }
    },
    {
      "cell_type": "markdown",
      "source": [
        "🤖  Me diga qual é esta língua: Jeg vil gerne lære at programmere i Python."
      ],
      "metadata": {
        "id": "Po4rSZQk0_tv"
      }
    },
    {
      "cell_type": "markdown",
      "source": [
        "Transforme o código a seguir para a linguagem R: \n",
        "``` \n",
        "from sklearn.tree import DecisionTreeClassifier\n",
        "from sklearn.metrics import accuracy_score\n",
        "\n",
        "# X contém as features e y contém o alvo\n",
        "# X_train, X_test, y_train, y_test foram criados no exemplo anterior\n",
        "# Instanciando um objeto da classe DecisionTreeClassifier\n",
        "model = DecisionTreeClassifier()\n",
        "\n",
        "# Treinando o modelo usando os dados de treinamento\n",
        "model.fit(X_train, y_train)\n",
        "\n",
        "# Avaliando o desempenho do modelo usando os dados de teste\n",
        "y_pred = model.predict(X_test)\n",
        "accuracy = accuracy_score(y_test, y_pred)\n",
        "print(\"Acurácia:\", accuracy)\n",
        "```"
      ],
      "metadata": {
        "id": "sGTU_py4v-uo"
      }
    },
    {
      "cell_type": "markdown",
      "source": [
        "https://arxiv.org/pdf/2305.03025v1.pdf"
      ],
      "metadata": {
        "id": "pd8nU6sd9BG7"
      }
    },
    {
      "cell_type": "markdown",
      "source": [
        "🤖 Passe as informações a seguir para uma citação seguindo as normas ABNT: ```Panda LLM: Training Data and Evaluation for Open-Sourced Chinese\n",
        "Instruction-Following Large Language Models\n",
        "Fangkai Jiao∗ Bosheng Ding∗ † Tianze Luo∗ Zhanfeng Mo∗\n",
        "Nanyang Technological University, Singapore\n",
        "Published in 4 May 2023. ```"
      ],
      "metadata": {
        "id": "CKc2dFur8fE2"
      }
    }
  ]
}